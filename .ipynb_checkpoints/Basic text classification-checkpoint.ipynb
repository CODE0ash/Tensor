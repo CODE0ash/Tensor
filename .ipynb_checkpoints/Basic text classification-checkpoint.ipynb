{
 "cells": [
  {
   "cell_type": "code",
   "execution_count": 1,
   "metadata": {},
   "outputs": [
    {
     "name": "stdout",
     "output_type": "stream",
     "text": [
      "1.10.0\n"
     ]
    }
   ],
   "source": [
    "import tensorflow as tf\n",
    "from tensorflow import keras\n",
    "\n",
    "import numpy as np\n",
    "print(tf.__version__)"
   ]
  },
  {
   "cell_type": "code",
   "execution_count": 2,
   "metadata": {},
   "outputs": [
    {
     "name": "stdout",
     "output_type": "stream",
     "text": [
      "Downloading data from https://storage.googleapis.com/tensorflow/tf-keras-datasets/imdb.npz\n",
      "17465344/17464789 [==============================] - 3s 0us/step\n"
     ]
    }
   ],
   "source": [
    "imdb = keras.datasets.imdb\n",
    "\n",
    "(train_data, train_labels),(test_data,test_labels) = imdb.load_data(num_words=10000)"
   ]
  },
  {
   "cell_type": "code",
   "execution_count": 3,
   "metadata": {},
   "outputs": [
    {
     "name": "stdout",
     "output_type": "stream",
     "text": [
      "Training entries: 25000, labels: 25000\n"
     ]
    }
   ],
   "source": [
    "print(\"Training entries: {}, labels: {}\".format(len(train_data),len(train_labels)))"
   ]
  },
  {
   "cell_type": "code",
   "execution_count": 4,
   "metadata": {},
   "outputs": [
    {
     "name": "stdout",
     "output_type": "stream",
     "text": [
      "[1, 14, 22, 16, 43, 530, 973, 1622, 1385, 65, 458, 4468, 66, 3941, 4, 173, 36, 256, 5, 25, 100, 43, 838, 112, 50, 670, 2, 9, 35, 480, 284, 5, 150, 4, 172, 112, 167, 2, 336, 385, 39, 4, 172, 4536, 1111, 17, 546, 38, 13, 447, 4, 192, 50, 16, 6, 147, 2025, 19, 14, 22, 4, 1920, 4613, 469, 4, 22, 71, 87, 12, 16, 43, 530, 38, 76, 15, 13, 1247, 4, 22, 17, 515, 17, 12, 16, 626, 18, 2, 5, 62, 386, 12, 8, 316, 8, 106, 5, 4, 2223, 5244, 16, 480, 66, 3785, 33, 4, 130, 12, 16, 38, 619, 5, 25, 124, 51, 36, 135, 48, 25, 1415, 33, 6, 22, 12, 215, 28, 77, 52, 5, 14, 407, 16, 82, 2, 8, 4, 107, 117, 5952, 15, 256, 4, 2, 7, 3766, 5, 723, 36, 71, 43, 530, 476, 26, 400, 317, 46, 7, 4, 2, 1029, 13, 104, 88, 4, 381, 15, 297, 98, 32, 2071, 56, 26, 141, 6, 194, 7486, 18, 4, 226, 22, 21, 134, 476, 26, 480, 5, 144, 30, 5535, 18, 51, 36, 28, 224, 92, 25, 104, 4, 226, 65, 16, 38, 1334, 88, 12, 16, 283, 5, 16, 4472, 113, 103, 32, 15, 16, 5345, 19, 178, 32]\n"
     ]
    }
   ],
   "source": [
    "print(train_data[0])"
   ]
  },
  {
   "cell_type": "code",
   "execution_count": 5,
   "metadata": {},
   "outputs": [
    {
     "name": "stdout",
     "output_type": "stream",
     "text": [
      "Downloading data from https://storage.googleapis.com/tensorflow/tf-keras-datasets/imdb_word_index.json\n",
      "1646592/1641221 [==============================] - 1s 1us/step\n"
     ]
    }
   ],
   "source": [
    "# A dictionary mapping words to an integer index\n",
    "word_index = imdb.get_word_index()\n",
    "\n",
    "# The first indices are reserved\n",
    "word_index = {k:(v+3) for k,v in word_index.items()} \n",
    "word_index[\"<PAD>\"] = 0\n",
    "word_index[\"<START>\"] = 1\n",
    "word_index[\"<UNK>\"] = 2  # unknown\n",
    "word_index[\"<UNUSED>\"] = 3\n",
    "\n",
    "reverse_word_index = dict([(value, key) for (key, value) in word_index.items()])\n",
    "\n",
    "def decode_review(text):\n",
    "    return ' '.join([reverse_word_index.get(i, '?') for i in text])\n"
   ]
  },
  {
   "cell_type": "code",
   "execution_count": 7,
   "metadata": {},
   "outputs": [
    {
     "data": {
      "text/plain": [
       "\"<START> this film was just brilliant casting location scenery story direction everyone's really suited the part they played and you could just imagine being there robert <UNK> is an amazing actor and now the same being director <UNK> father came from the same scottish island as myself so i loved the fact there was a real connection with this film the witty remarks throughout the film were great it was just brilliant so much that i bought the film as soon as it was released for <UNK> and would recommend it to everyone to watch and the fly fishing was amazing really cried at the end it was so sad and you know what they say if you cry at a film it must have been good and this definitely was also <UNK> to the two little boy's that played the <UNK> of norman and paul they were just brilliant children are often left out of the <UNK> list i think because the stars that play them all grown up are such a big profile for the whole film but these children are amazing and should be praised for what they have done don't you think the whole story was so lovely because it was true and was someone's life after all that was shared with us all\""
      ]
     },
     "execution_count": 7,
     "metadata": {},
     "output_type": "execute_result"
    }
   ],
   "source": [
    "decode_review(train_data[0])"
   ]
  },
  {
   "cell_type": "code",
   "execution_count": 8,
   "metadata": {
    "collapsed": true
   },
   "outputs": [],
   "source": [
    "train_data = keras.preprocessing.sequence.pad_sequences(train_data,\n",
    "                                                        value=word_index[\"<PAD>\"],\n",
    "                                                        padding='post',\n",
    "                                                        maxlen=256)\n",
    "\n",
    "test_data = keras.preprocessing.sequence.pad_sequences(test_data,\n",
    "                                                       value=word_index[\"<PAD>\"],\n",
    "                                                       padding='post',\n",
    "                                                       maxlen=256)"
   ]
  },
  {
   "cell_type": "code",
   "execution_count": 9,
   "metadata": {},
   "outputs": [
    {
     "name": "stdout",
     "output_type": "stream",
     "text": [
      "_________________________________________________________________\n",
      "Layer (type)                 Output Shape              Param #   \n",
      "=================================================================\n",
      "embedding (Embedding)        (None, None, 16)          160000    \n",
      "_________________________________________________________________\n",
      "global_average_pooling1d (Gl (None, 16)                0         \n",
      "_________________________________________________________________\n",
      "dense (Dense)                (None, 16)                272       \n",
      "_________________________________________________________________\n",
      "dense_1 (Dense)              (None, 1)                 17        \n",
      "=================================================================\n",
      "Total params: 160,289\n",
      "Trainable params: 160,289\n",
      "Non-trainable params: 0\n",
      "_________________________________________________________________\n"
     ]
    }
   ],
   "source": [
    "# input shape is the vocabulary count used for the movie reviews (10,000 words)\n",
    "vocab_size = 10000\n",
    "\n",
    "model = keras.Sequential()\n",
    "model.add(keras.layers.Embedding(vocab_size, 16))\n",
    "model.add(keras.layers.GlobalAveragePooling1D())\n",
    "model.add(keras.layers.Dense(16, activation=tf.nn.relu))\n",
    "model.add(keras.layers.Dense(1, activation=tf.nn.sigmoid))\n",
    "\n",
    "model.summary()"
   ]
  },
  {
   "cell_type": "code",
   "execution_count": 12,
   "metadata": {},
   "outputs": [],
   "source": [
    "model.compile(optimizer=tf.train.AdamOptimizer(), loss='binary_crossentropy',metrics=['accuracy'])"
   ]
  },
  {
   "cell_type": "code",
   "execution_count": 13,
   "metadata": {
    "collapsed": true
   },
   "outputs": [],
   "source": [
    "x_val = train_data[:10000]\n",
    "partial_x_train = train_data[10000:]\n",
    "\n",
    "y_val = train_labels[:10000]\n",
    "partial_y_train = train_labels[10000:]"
   ]
  },
  {
   "cell_type": "code",
   "execution_count": 14,
   "metadata": {},
   "outputs": [
    {
     "name": "stdout",
     "output_type": "stream",
     "text": [
      "Train on 15000 samples, validate on 10000 samples\n",
      "Epoch 1/40\n",
      "15000/15000 [==============================] - 3s 226us/step - loss: 0.7019 - acc: 0.5001 - val_loss: 0.6945 - val_acc: 0.5076\n",
      "Epoch 2/40\n",
      "15000/15000 [==============================] - 3s 185us/step - loss: 0.6917 - acc: 0.5270 - val_loss: 0.6900 - val_acc: 0.5527\n",
      "Epoch 3/40\n",
      "15000/15000 [==============================] - 2s 155us/step - loss: 0.6886 - acc: 0.5634 - val_loss: 0.6878 - val_acc: 0.5765\n",
      "Epoch 4/40\n",
      "15000/15000 [==============================] - 2s 157us/step - loss: 0.6857 - acc: 0.6315 - val_loss: 0.6851 - val_acc: 0.5835\n",
      "Epoch 5/40\n",
      "15000/15000 [==============================] - 2s 134us/step - loss: 0.6822 - acc: 0.6468 - val_loss: 0.6811 - val_acc: 0.7185\n",
      "Epoch 6/40\n",
      "15000/15000 [==============================] - 2s 128us/step - loss: 0.6778 - acc: 0.7300 - val_loss: 0.6763 - val_acc: 0.7425\n",
      "Epoch 7/40\n",
      "15000/15000 [==============================] - 2s 143us/step - loss: 0.6716 - acc: 0.7511 - val_loss: 0.6701 - val_acc: 0.7346\n",
      "Epoch 8/40\n",
      "15000/15000 [==============================] - 2s 159us/step - loss: 0.6630 - acc: 0.7666 - val_loss: 0.6610 - val_acc: 0.7431\n",
      "Epoch 9/40\n",
      "15000/15000 [==============================] - 2s 133us/step - loss: 0.6515 - acc: 0.7849 - val_loss: 0.6483 - val_acc: 0.7761\n",
      "Epoch 10/40\n",
      "15000/15000 [==============================] - 2s 141us/step - loss: 0.6359 - acc: 0.7990 - val_loss: 0.6321 - val_acc: 0.7773\n",
      "Epoch 11/40\n",
      "15000/15000 [==============================] - 2s 149us/step - loss: 0.6165 - acc: 0.7829 - val_loss: 0.6138 - val_acc: 0.7739\n",
      "Epoch 12/40\n",
      "15000/15000 [==============================] - 2s 152us/step - loss: 0.5929 - acc: 0.8005 - val_loss: 0.5890 - val_acc: 0.7883\n",
      "Epoch 13/40\n",
      "15000/15000 [==============================] - 2s 155us/step - loss: 0.5653 - acc: 0.8113 - val_loss: 0.5640 - val_acc: 0.7976\n",
      "Epoch 14/40\n",
      "15000/15000 [==============================] - 2s 147us/step - loss: 0.5367 - acc: 0.8173 - val_loss: 0.5376 - val_acc: 0.8048\n",
      "Epoch 15/40\n",
      "15000/15000 [==============================] - 2s 141us/step - loss: 0.5072 - acc: 0.8293 - val_loss: 0.5108 - val_acc: 0.8091\n",
      "Epoch 16/40\n",
      "15000/15000 [==============================] - 2s 134us/step - loss: 0.4786 - acc: 0.8381 - val_loss: 0.4853 - val_acc: 0.8209\n",
      "Epoch 17/40\n",
      "15000/15000 [==============================] - 2s 132us/step - loss: 0.4500 - acc: 0.8495 - val_loss: 0.4617 - val_acc: 0.8308\n",
      "Epoch 18/40\n",
      "15000/15000 [==============================] - 2s 139us/step - loss: 0.4240 - acc: 0.8593 - val_loss: 0.4395 - val_acc: 0.8377\n",
      "Epoch 19/40\n",
      "15000/15000 [==============================] - 2s 135us/step - loss: 0.4004 - acc: 0.8651 - val_loss: 0.4199 - val_acc: 0.8431\n",
      "Epoch 20/40\n",
      "15000/15000 [==============================] - 2s 139us/step - loss: 0.3788 - acc: 0.8722 - val_loss: 0.4026 - val_acc: 0.8507\n",
      "Epoch 21/40\n",
      "15000/15000 [==============================] - 2s 144us/step - loss: 0.3594 - acc: 0.8791 - val_loss: 0.3874 - val_acc: 0.8547\n",
      "Epoch 22/40\n",
      "15000/15000 [==============================] - 2s 142us/step - loss: 0.3421 - acc: 0.8832 - val_loss: 0.3743 - val_acc: 0.8580\n",
      "Epoch 23/40\n",
      "15000/15000 [==============================] - 2s 140us/step - loss: 0.3270 - acc: 0.8889 - val_loss: 0.3632 - val_acc: 0.8611\n",
      "Epoch 24/40\n",
      "15000/15000 [==============================] - 2s 151us/step - loss: 0.3129 - acc: 0.8929 - val_loss: 0.3531 - val_acc: 0.8651\n",
      "Epoch 25/40\n",
      "15000/15000 [==============================] - 2s 151us/step - loss: 0.3004 - acc: 0.8984 - val_loss: 0.3445 - val_acc: 0.8676\n",
      "Epoch 26/40\n",
      "15000/15000 [==============================] - 3s 173us/step - loss: 0.2890 - acc: 0.9015 - val_loss: 0.3373 - val_acc: 0.8693\n",
      "Epoch 27/40\n",
      "15000/15000 [==============================] - 3s 172us/step - loss: 0.2790 - acc: 0.9035 - val_loss: 0.3309 - val_acc: 0.8713\n",
      "Epoch 28/40\n",
      "15000/15000 [==============================] - 2s 161us/step - loss: 0.2690 - acc: 0.9077 - val_loss: 0.3246 - val_acc: 0.8742\n",
      "Epoch 29/40\n",
      "15000/15000 [==============================] - 2s 161us/step - loss: 0.2603 - acc: 0.9091 - val_loss: 0.3200 - val_acc: 0.8741\n",
      "Epoch 30/40\n",
      "15000/15000 [==============================] - 2s 150us/step - loss: 0.2530 - acc: 0.9097 - val_loss: 0.3151 - val_acc: 0.8769\n",
      "Epoch 31/40\n",
      "15000/15000 [==============================] - 2s 135us/step - loss: 0.2445 - acc: 0.9149 - val_loss: 0.3114 - val_acc: 0.8781\n",
      "Epoch 32/40\n",
      "15000/15000 [==============================] - 2s 140us/step - loss: 0.2379 - acc: 0.9168 - val_loss: 0.3079 - val_acc: 0.8786\n",
      "Epoch 33/40\n",
      "15000/15000 [==============================] - 2s 140us/step - loss: 0.2305 - acc: 0.9195 - val_loss: 0.3048 - val_acc: 0.8796\n",
      "Epoch 34/40\n",
      "15000/15000 [==============================] - 2s 136us/step - loss: 0.2242 - acc: 0.9221 - val_loss: 0.3027 - val_acc: 0.8789\n",
      "Epoch 35/40\n",
      "15000/15000 [==============================] - 2s 136us/step - loss: 0.2187 - acc: 0.9221 - val_loss: 0.2996 - val_acc: 0.8802\n",
      "Epoch 36/40\n",
      "15000/15000 [==============================] - 3s 186us/step - loss: 0.2123 - acc: 0.9253 - val_loss: 0.2975 - val_acc: 0.8809\n",
      "Epoch 37/40\n",
      "15000/15000 [==============================] - 3s 229us/step - loss: 0.2070 - acc: 0.9276 - val_loss: 0.2957 - val_acc: 0.8815\n",
      "Epoch 38/40\n",
      "15000/15000 [==============================] - 3s 215us/step - loss: 0.2017 - acc: 0.9292 - val_loss: 0.2941 - val_acc: 0.8818\n",
      "Epoch 39/40\n",
      "15000/15000 [==============================] - 2s 156us/step - loss: 0.1963 - acc: 0.9320 - val_loss: 0.2924 - val_acc: 0.8828\n",
      "Epoch 40/40\n",
      "15000/15000 [==============================] - 2s 158us/step - loss: 0.1916 - acc: 0.9327 - val_loss: 0.2911 - val_acc: 0.8835\n"
     ]
    }
   ],
   "source": [
    "history = model.fit(partial_x_train,\n",
    "                   partial_y_train,epochs=40,\n",
    "                   batch_size=512,\n",
    "                   validation_data=(x_val,y_val),\n",
    "                   verbose=1)"
   ]
  },
  {
   "cell_type": "code",
   "execution_count": 17,
   "metadata": {},
   "outputs": [
    {
     "name": "stdout",
     "output_type": "stream",
     "text": [
      "25000/25000 [==============================] - 1s 54us/step\n",
      "[0.3057653827285767, 0.87452]\n"
     ]
    }
   ],
   "source": [
    "results = model.evaluate(test_data,test_labels)\n",
    "print(results)"
   ]
  },
  {
   "cell_type": "code",
   "execution_count": 18,
   "metadata": {},
   "outputs": [
    {
     "data": {
      "text/plain": [
       "dict_keys(['val_loss', 'val_acc', 'loss', 'acc'])"
      ]
     },
     "execution_count": 18,
     "metadata": {},
     "output_type": "execute_result"
    }
   ],
   "source": [
    "history_dict = history.history\n",
    "history_dict.keys()"
   ]
  },
  {
   "cell_type": "code",
   "execution_count": 21,
   "metadata": {},
   "outputs": [
    {
     "data": {
      "image/png": "[encoded data removed]",
      "text/plain": [
       "<Figure size 432x288 with 1 Axes>"
      ]
     },
     "metadata": {},
     "output_type": "display_data"
    }
   ],
   "source": [
    "import matplotlib.pyplot as plt\n",
    "\n",
    "acc = history.history['acc']\n",
    "val_acc = history.history['val_acc']\n",
    "loss = history.history['loss']\n",
    "val_loss = history.history['val_loss']\n",
    "\n",
    "epochs = range(1, len(acc) + 1)\n",
    "\n",
    "# \"bo\" is for \"blue dot\"\n",
    "plt.plot(epochs, loss, 'bo', label='Training loss')\n",
    "# b is for \"solid blue line\"\n",
    "plt.plot(epochs, val_loss, 'b', label='Validation loss')\n",
    "plt.title('Training and validation loss')\n",
    "plt.xlabel('Epochs')\n",
    "plt.ylabel('Loss')\n",
    "plt.legend()\n",
    "\n",
    "plt.show()"
   ]
  },
  {
   "cell_type": "code",
   "execution_count": 20,
   "metadata": {},
   "outputs": [
    {
     "data": {
      "image/png": "[encoded data removed]",
      "text/plain": [
       "<Figure size 432x288 with 1 Axes>"
      ]
     },
     "metadata": {},
     "output_type": "display_data"
    }
   ],
   "source": [
    "plt.clf()   # clear figure\n",
    "acc_values = history_dict['acc']\n",
    "val_acc_values = history_dict['val_acc']\n",
    "\n",
    "plt.plot(epochs, acc, 'bo', label='Training acc')\n",
    "plt.plot(epochs, val_acc, 'b', label='Validation acc')\n",
    "plt.title('Training and validation accuracy')\n",
    "plt.xlabel('Epochs')\n",
    "plt.ylabel('Accuracy')\n",
    "plt.legend()\n",
    "\n",
    "plt.show()\n"
   ]
  }
 ],
 "metadata": {
  "kernelspec": {
   "display_name": "Python 3",
   "language": "python",
   "name": "python3"
  },
  "language_info": {
   "codemirror_mode": {
    "name": "ipython",
    "version": 3
   },
   "file_extension": ".py",
   "mimetype": "text/x-python",
   "name": "python",
   "nbconvert_exporter": "python",
   "pygments_lexer": "ipython3",
   "version": "3.6.2"
  }
 },
 "nbformat": 4,
 "nbformat_minor": 2
}
