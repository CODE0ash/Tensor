{
 "cells": [
  {
   "cell_type": "code",
   "execution_count": 2,
   "metadata": {},
   "outputs": [
    {
     "name": "stdout",
     "output_type": "stream",
     "text": [
      "Collecting pandas\n",
      "  Downloading https://files.pythonhosted.org/packages/0e/67/def5bfaf4d3324fdb89048889ec523c0903c5efab1a64c8dbe0ac8eec13c/pandas-0.23.4-cp36-cp36m-win_amd64.whl (7.7MB)\n",
      "Requirement already satisfied: numpy>=1.9.0 in c:\\users\\apanchal\\appdata\\local\\programs\\python\\python36\\lib\\site-packages (from pandas) (1.14.5)\n",
      "Requirement already satisfied: pytz>=2011k in c:\\users\\apanchal\\appdata\\local\\programs\\python\\python36\\lib\\site-packages (from pandas) (2018.5)\n",
      "Requirement already satisfied: python-dateutil>=2.5.0 in c:\\users\\apanchal\\appdata\\local\\programs\\python\\python36\\lib\\site-packages (from pandas) (2.7.3)\n",
      "Requirement already satisfied: six>=1.5 in c:\\users\\apanchal\\appdata\\local\\programs\\python\\python36\\lib\\site-packages (from python-dateutil>=2.5.0->pandas) (1.11.0)\n",
      "Installing collected packages: pandas\n",
      "Successfully installed pandas-0.23.4\n"
     ]
    }
   ],
   "source": [
    "!pip3 install pandas"
   ]
  }
 ],
 "metadata": {
  "kernelspec": {
   "display_name": "Python 3",
   "language": "python",
   "name": "python3"
  },
  "language_info": {
   "codemirror_mode": {
    "name": "ipython",
    "version": 3
   },
   "file_extension": ".py",
   "mimetype": "text/x-python",
   "name": "python",
   "nbconvert_exporter": "python",
   "pygments_lexer": "ipython3",
   "version": "3.6.2"
  }
 },
 "nbformat": 4,
 "nbformat_minor": 2
}
