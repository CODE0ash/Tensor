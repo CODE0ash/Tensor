{
 "cells": [
  {
   "cell_type": "code",
   "execution_count": 12,
   "metadata": {},
   "outputs": [
    {
     "name": "stdout",
     "output_type": "stream",
     "text": [
      "[30]\n"
     ]
    },
    {
     "name": "stderr",
     "output_type": "stream",
     "text": [
      "2018-12-07 19:47:57.016117: I T:\\src\\github\\tensorflow\\tensorflow\\core\\platform\\cpu_feature_guard.cc:141] Your CPU supports instructions that this TensorFlow binary was not compiled to use: AVX2\n"
     ]
    }
   ],
   "source": [
    "!Py -3 testing.py"
   ]
  },
  {
   "cell_type": "code",
   "execution_count": 20,
   "metadata": {},
   "outputs": [
    {
     "name": "stdout",
     "output_type": "stream",
     "text": [
      "[30]\n",
      "[30]\n"
     ]
    }
   ],
   "source": [
    "import tensorflow as tf # this a proves that i can directly run code from here\n",
    "\n",
    "x1 = tf.constant([5])\n",
    "x2 = tf.constant([6])\n",
    "\n",
    "result = tf.multiply(x1,x2)\n",
    "\n",
    "with tf.Session() as sess:\n",
    "    \n",
    "\n",
    "    output=(sess.run(result))\n",
    "    print(output)\n",
    "    \n",
    "print(output)"
   ]
  },
  {
   "cell_type": "code",
   "execution_count": 35,
   "metadata": {},
   "outputs": [
    {
     "name": "stdout",
     "output_type": "stream",
     "text": [
      "Extracting /tmp/data\\train-images-idx3-ubyte.gz\n",
      "Extracting /tmp/data\\train-labels-idx1-ubyte.gz\n",
      "Extracting /tmp/data\\t10k-images-idx3-ubyte.gz\n",
      "Extracting /tmp/data\\t10k-labels-idx1-ubyte.gz\n",
      "Epoch 0 completed out of  10  loss :  673925.4897613866\n",
      "Epoch 1 completed out of  10  loss :  129842.40487124407\n",
      "Epoch 2 completed out of  10  loss :  69952.04353913433\n",
      "Epoch 3 completed out of  10  loss :  44040.32726323503\n",
      "Epoch 4 completed out of  10  loss :  29986.18778194902\n",
      "Epoch 5 completed out of  10  loss :  21895.61456466194\n",
      "Epoch 6 completed out of  10  loss :  16294.406824746206\n",
      "Epoch 7 completed out of  10  loss :  12484.041603359143\n",
      "Epoch 8 completed out of  10  loss :  9676.569744589537\n",
      "Epoch 9 completed out of  10  loss :  8111.4951119982015\n",
      "Accuracy 0.9239\n"
     ]
    }
   ],
   "source": [
    "import tensorflow as tf\n",
    "\n",
    "from tensorflow.examples.tutorials.mnist import input_data\n",
    "\n",
    "mnist = input_data.read_data_sets(\"/tmp/data\", one_hot=True)\n",
    "'''\n",
    "input> weight > hidden layer 1 > w > h2 > w > output\n",
    "\n",
    "compare output to actual class >>> cost\n",
    "optimization funct >>> minimize cost\n",
    "\n",
    "back prop\n",
    "\n",
    "feed forward + back prop = epoch\n",
    "'''\n",
    "\n",
    "\n",
    "nodes_hl1 = 100\n",
    "nodes_hl2 = 100\n",
    "nodes_hl3 = 100\n",
    "\n",
    "n_classes = 10\n",
    "\n",
    "batch_size = 20\n",
    "\n",
    "x= tf.placeholder('float',[None, 784])\n",
    "y=tf.placeholder('float',)\n",
    "\n",
    "def neural_network_model(data):\n",
    "    hidden_1_layer = {'weights':tf.Variable(tf.random_normal([784,nodes_hl1])),\n",
    "                     'biases':tf.Variable(tf.random_normal([nodes_hl1]))}\n",
    "\n",
    "    hidden_2_layer = {'weights':tf.Variable(tf.random_normal([nodes_hl1,nodes_hl2])),\n",
    "                     'biases':tf.Variable(tf.random_normal([nodes_hl2]))}\n",
    "\n",
    "    hidden_3_layer = {'weights':tf.Variable(tf.random_normal([nodes_hl2,nodes_hl3])),\n",
    "                     'biases':tf.Variable(tf.random_normal([nodes_hl3]))}\n",
    "    \n",
    "    Output_layer = {'weights':tf.Variable(tf.random_normal([nodes_hl3,n_classes])),\n",
    "                     'biases':tf.Variable(tf.random_normal([n_classes]))}\n",
    "    \n",
    "    l1= tf.add(tf.matmul(data, hidden_1_layer['weights']), hidden_1_layer['biases'])\n",
    "    l1=tf.nn.relu(l1)\n",
    "    \n",
    "    l2= tf.add(tf.matmul(l1, hidden_2_layer['weights']), hidden_2_layer['biases'])\n",
    "    l2=tf.nn.relu(l2)\n",
    "    \n",
    "    l3= tf.add(tf.matmul(l2, hidden_3_layer['weights']),hidden_3_layer['biases'])\n",
    "    l3=tf.nn.relu(l3)\n",
    "    \n",
    "    \n",
    "    output= tf.matmul(l3,Output_layer['weights']) + Output_layer['biases']\n",
    "    \n",
    "    \n",
    "    return output\n",
    "    \n",
    "\n",
    "def train_neural_network(x):\n",
    "    prediction = neural_network_model(x)\n",
    "    cost = tf.reduce_mean(tf.nn.softmax_cross_entropy_with_logits(logits=prediction, labels=y))\n",
    "    \n",
    "    optimizer = tf.train.AdamOptimizer().minimize(cost)\n",
    "    \n",
    "    hm_epochs=10\n",
    "    \n",
    "    with tf.Session() as sess:\n",
    "        sess.run(tf.global_variables_initializer())\n",
    "        \n",
    "        \n",
    "        for epoch in range(hm_epochs):\n",
    "            epoch_loss = 0\n",
    "            for _ in range(int(mnist.train.num_examples/batch_size)):\n",
    "                epoch_x, epoch_y = mnist.train.next_batch(batch_size)\n",
    "                _,c = sess.run([optimizer,cost], feed_dict = {x: epoch_x, y : epoch_y})\n",
    "                epoch_loss += c\n",
    "                \n",
    "                \n",
    "            print('Epoch',epoch,'completed out of ',hm_epochs,' loss : ',epoch_loss)\n",
    "\n",
    "        correct = tf.equal(tf.argmax(prediction,1), tf.argmax(y,1))\n",
    "        \n",
    "        accuracy = tf.reduce_mean(tf.cast(correct,'float'))\n",
    "        print(\"Accuracy\",accuracy.eval({x:mnist.test.images, y:mnist.test.labels}))\n",
    "\n",
    "train_neural_network(x)\n"
   ]
  },
  {
   "cell_type": "code",
   "execution_count": null,
   "metadata": {
    "collapsed": true
   },
   "outputs": [],
   "source": []
  }
 ],
 "metadata": {
  "kernelspec": {
   "display_name": "Python 3",
   "language": "python",
   "name": "python3"
  },
  "language_info": {
   "codemirror_mode": {
    "name": "ipython",
    "version": 3
   },
   "file_extension": ".py",
   "mimetype": "text/x-python",
   "name": "python",
   "nbconvert_exporter": "python",
   "pygments_lexer": "ipython3",
   "version": "3.6.2"
  }
 },
 "nbformat": 4,
 "nbformat_minor": 2
}
